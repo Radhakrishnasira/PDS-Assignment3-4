{
 "cells": [
  {
   "cell_type": "code",
   "execution_count": 1,
   "id": "d919045c",
   "metadata": {},
   "outputs": [
    {
     "name": "stdout",
     "output_type": "stream",
     "text": [
      "Requirement already satisfied: requests in /Users/tanuja/anaconda3/lib/python3.11/site-packages (2.31.0)\n",
      "Requirement already satisfied: charset-normalizer<4,>=2 in /Users/tanuja/anaconda3/lib/python3.11/site-packages (from requests) (2.0.4)\n",
      "Requirement already satisfied: idna<4,>=2.5 in /Users/tanuja/anaconda3/lib/python3.11/site-packages (from requests) (3.4)\n",
      "Requirement already satisfied: urllib3<3,>=1.21.1 in /Users/tanuja/anaconda3/lib/python3.11/site-packages (from requests) (1.26.16)\n",
      "Requirement already satisfied: certifi>=2017.4.17 in /Users/tanuja/anaconda3/lib/python3.11/site-packages (from requests) (2023.7.22)\n",
      "Note: you may need to restart the kernel to use updated packages.\n"
     ]
    }
   ],
   "source": [
    "pip install requests"
   ]
  },
  {
   "cell_type": "code",
   "execution_count": 10,
   "id": "83de9fbc",
   "metadata": {},
   "outputs": [
    {
     "name": "stdout",
     "output_type": "stream",
     "text": [
      "{'listingProvider': None, 'zpid': None, 'buildingPermits': None, 'propertyTaxRate': None, 'contact_recipients': {}, 'zipcode': None, 'openHouseSchedule': {}, 'longitude': None, 'zestimateLowPercent': None, 'address': {'community': None, 'city': None, 'state': None, 'neighborhood': None, 'subdivision': None, 'streetAddress': '', 'zipcode': None}, 'cityId': None, 'timeOnZillow': None, 'url': '/homes/', 'zestimate': None, 'imgSrc': None, 'description': ' ', 'price': 0, 'livingAreaValue': None, 'resoFacts': {'hasAttachedProperty': False, 'frontageType': None, 'poolFeatures': None, 'flooring': None, 'builderModel': None, 'accessibilityFeatures': None, 'hasGarage': False, 'hasPetsAllowed': None, 'bodyType': None, 'topography': None, 'landLeaseExpirationDate': None, 'hasAdditionalParcels': False, 'waterViewYN': None, 'livingQuarters': {}, 'atAGlanceFacts': [{'factValue': 'Other', 'factLabel': 'Type'}, {'factValue': None, 'factLabel': 'Heating'}, {'factValue': None, 'factLabel': 'Cooling'}, {'factValue': 'No Data', 'factLabel': 'Parking'}], 'offerReviewDate': None, 'horseYN': None, 'view': None, 'buyerAgencyCompensationType': None, 'rooms': {}, 'belowGradeFinishedArea': None, 'feesAndDues': {}, 'cityRegion': '', 'subAgencyCompensation': None, 'hasPrivatePool': None, 'associationFeeIncludes': None, 'waterSource': None, 'carportParkingCapacity': None, 'transactionBrokerCompensationType': None, 'hasFireplace': None, 'gas': None, 'sewer': None, 'elevationUnits': None, 'roadSurfaceType': None, 'mainLevelBedrooms': None, 'numberOfUnitsVacant': None, 'hasWaterfrontView': False, 'bathroomsOneQuarter': None, 'lotSize': None, 'subAgencyCompensationType': None, 'entryLevel': None, 'irrigationWaterRightsAcres': None, 'greenWaterConservation': None, 'stories': None, 'bathrooms': None, 'numberOfUnitsInCommunity': None, 'listingTerms': None, 'otherParking': None, 'associationFee': None, 'marketingType': None, 'greenEnergyEfficient': None, 'greenSustainability': None, 'heating': None, 'associationPhone': None, 'greenBuildingVerificationType': None, 'hasAttachedGarage': None, 'bedrooms': None, 'architecturalStyle': None, 'listingId': None, 'structureType': None, 'interiorFeatures': None, 'horseAmenities': None, 'electric': None, 'otherFacts': {}, 'lotFeatures': None, 'roofType': None, 'compensationBasedOn': None, 'greenEnergyGeneration': None, 'daysOnZillow': None, 'listAOR': None, 'hasHeating': None, 'elementarySchool': None, 'constructionMaterials': None, 'basementYN': None, 'hoaFeeTotal': None, 'appliances': None, 'virtualTour': None, 'bathroomsPartial': None, 'fencing': None, 'yearBuiltEffective': None, 'foundationDetails': None, 'buildingName': None, 'hasAssociation': None, 'isSeniorCommunity': False, 'propertySubType': None, 'propertyCondition': None, 'hasCarport': None, 'canRaiseHorses': False, 'hasLandLease': False, 'communityFeatures': None, 'parcelNumber': None, 'elevation': None, 'lotSizeDimensions': None, 'buildingAreaSource': None, 'contingency': None, 'yearBuilt': None, 'otherStructures': None, 'livingArea': None, 'bathroomsFull': None, 'livingAreaRangeUnits': None, 'incomeIncludes': None, 'highSchool': None, 'aboveGradeFinishedArea': None, 'isNewConstruction': None, 'inclusions': None, 'hasHomeWarranty': False, 'additionalFeeInfo': None, 'windowFeatures': None, 'ownership': None, 'woodedArea': None, 'middleOrJuniorSchoolDistrict': None, 'associationPhone2': None, 'exteriorFeatures': None, 'buildingFeatures': None, 'frontageLength': None, 'buildingArea': None, 'associationAmenities': None, 'bathroomsHalf': None, 'hasCooling': None, 'additionalParcelsDescription': None, 'parkingFeatures': {}, 'foundationArea': None, 'zoning': None, 'hoaFee': None, 'livingAreaRange': None, 'zoningDescription': None, 'developmentStatus': None, 'availabilityDate': None, 'waterfrontFeatures': None, 'waterBodyName': None, 'utilities': None, 'entryLocation': None, 'totalActualRent': None, 'hasView': None, 'subdivisionName': None, 'securityFeatures': None, 'attic': None, 'fireplaceFeatures': None, 'mainLevelBathrooms': None, 'doorFeatures': None, 'ownershipType': None, 'associationName': None, 'associations': {}, 'waterView': None, 'garageParkingCapacity': None, 'cropsIncludedYN': None, 'laundryFeatures': None, 'buyerAgencyCompensation': None, 'greenIndoorAirQuality': None, 'homeType': 'Other', 'spaFeatures': None, 'municipality': None, 'bathroomsThreeQuarter': None, 'hasSpa': False, 'basement': None, 'associationFee2': None, 'cooling': None, 'openParkingCapacity': None, 'associationName2': None, 'hasRentControl': None, 'elementarySchoolDistrict': None, 'otherEquipment': None, 'commonWalls': None, 'specialListingConditions': None, 'furnished': False, 'vegetation': None, 'patioAndPorchFeatures': None, 'bathroomsFloat': None, 'builderName': None, 'highSchoolDistrict': None, 'transactionBrokerCompensation': None, 'storiesTotal': None, 'cumulativeDaysOnMarket': None, 'fireplaces': None, 'irrigationWaterRightsYN': None, 'exclusions': None, 'hasOpenParking': None, 'landLeaseAmount': None, 'coveredParkingCapacity': None, 'middleOrJuniorSchool': None, 'hasElectricOnProperty': None, 'onMarketDate': None, 'pricePerSquareFoot': None, 'parkingCapacity': 0, 'levels': None}, 'taxHistory': None, 'brokerId': None, 'stateId': None, 'streetAddress': '', 'listingSubType': {'is_FSBA': False, 'is_comingSoon': False, 'is_newHome': False, 'is_pending': False, 'is_forAuction': False, 'is_foreclosure': False, 'is_bankOwned': False, 'is_openHouse': False, 'is_FSBO': False}, 'solarPotential': None, 'dateSold': None, 'countyId': None, 'timeZone': None, 'homeType': None, 'livingAreaUnits': None, 'comingSoonOnMarketDate': None, 'rentZestimate': None, 'bathrooms': None, 'annualHomeownersInsurance': 0, 'state': None, 'propertyTypeDimension': None, 'building': None, 'listed_by': {'agent_reason': None, 'zpro': None, 'recent_sales': None, 'review_count': None, 'display_name': None, 'badge_type': None, 'business_name': None, 'rating_average': None, 'phone': None, 'zuid': None, 'image_url': None}, 'yearBuilt': None, 'brokerageName': None, 'pageViewCount': None, 'county': None, 'mortgageRates': None, 'attributionInfo': {'buyerAgentName': None, 'mlsName': None, 'coAgentLicenseNumber': None, 'listingOffices': None, 'lastUpdated': None, 'buyerAgentMemberStateLicense': None, 'brokerName': None, 'listingAgreement': None, 'infoString10': None, 'trueStatus': None, 'infoString3': None, 'agentEmail': None, 'agentName': None, 'attributionTitle': None, 'mlsId': None, 'coAgentName': None, 'coAgentNumber': None, 'infoString5': None, 'listingAgents': None, 'agentPhoneNumber': None, 'agentLicenseNumber': None, 'providerLogo': None, 'infoString16': None, 'buyerBrokerageName': None, 'mlsDisclaimer': None, 'brokerPhoneNumber': None, 'lastChecked': None}, 'monthlyHoaFee': None, 'homeStatus': 'OTHER', 'homeFacts': None, 'latitude': None, 'datePosted': None, 'bedrooms': None, 'nearbyHomes': {}, 'livingArea': None, 'priceHistory': {}, 'favoriteCount': None, 'schools': None, 'zestimateHighPercent': None, 'mlsid': None, 'countyFIPS': None, 'city': None, 'providerListingID': None, 'country': 'USA', 'currency': 'USD', 'isListedByOwner': None, 'contingentListingType': None}\n"
     ]
    }
   ],
   "source": [
    "import requests\n",
    "\n",
    "url = \"https://zillow-com1.p.rapidapi.com/property\"\n",
    "\n",
    "querystring = {\"zpid\":\"2080998891\"}\n",
    "\n",
    "headers = {\n",
    "    \"X-RapidAPI-Key\": \"1342981e3emshc7a5f249e891318p1a214fjsn76e638f920ee\",\n",
    "    \"X-RapidAPI-Host\": \"zillow-com1.p.rapidapi.com\"\n",
    "}\n",
    "\n",
    "response = requests.get(url, headers=headers, params=querystring)\n",
    "\n",
    "print(response.json())"
   ]
  },
  {
   "cell_type": "code",
   "execution_count": 12,
   "id": "8063b989",
   "metadata": {},
   "outputs": [
    {
     "data": {
      "text/html": [
       "\n",
       "        <iframe\n",
       "            width=\"100%\"\n",
       "            height=\"650\"\n",
       "            src=\"http://127.0.0.1:8051/\"\n",
       "            frameborder=\"0\"\n",
       "            allowfullscreen\n",
       "            \n",
       "        ></iframe>\n",
       "        "
      ],
      "text/plain": [
       "<IPython.lib.display.IFrame at 0x113f1a990>"
      ]
     },
     "metadata": {},
     "output_type": "display_data"
    }
   ],
   "source": [
    "import dash\n",
    "from dash import html, dcc, Input, Output\n",
    "import requests\n",
    "\n",
    "# Initialize Dash app\n",
    "app = dash.Dash(__name__)\n",
    "\n",
    "# Set up layout\n",
    "app.layout = html.Div([\n",
    "    html.H1(\"Zillow Property Data\"),\n",
    "    dcc.Loading(id=\"loading\", children=[html.Div(id=\"output\")])\n",
    "])\n",
    "\n",
    "# Callback to fetch and display data\n",
    "@app.callback(\n",
    "    Output(\"output\", \"children\"),\n",
    "    [Input(\"loading\", \"loading_state\")]\n",
    ")\n",
    "def update_output(loading):\n",
    "    url = \"https://zillow-com1.p.rapidapi.com/property\"\n",
    "    querystring = {\"zpid\": \"2080998891\"}\n",
    "    headers = {\n",
    "        \"X-RapidAPI-Key\": \"1342981e3emshc7a5f249e891318p1a214fjsn76e638f920ee\",\n",
    "        \"X-RapidAPI-Host\": \"zillow-com1.p.rapidapi.com\"\n",
    "    }\n",
    "    try:\n",
    "        response = requests.get(url, headers=headers, params=querystring)\n",
    "        response.raise_for_status()\n",
    "        data = response.json()\n",
    "        \n",
    "        # Assuming the structure of the returned data, modify this part accordingly\n",
    "        property_info = html.Div([\n",
    "            html.H2(\"Property Information\"),\n",
    "            html.P(f\"Address: {data['address']}\"),\n",
    "            html.P(f\"Price: {data['price']}\")\n",
    "            # Add more information as needed\n",
    "        ])\n",
    "        \n",
    "        return property_info\n",
    "    \n",
    "    except requests.exceptions.RequestException as e:\n",
    "        return html.Div(f\"Error fetching data: {e}\")\n",
    "\n",
    "# Run the app\n",
    "if __name__ == '__main__':\n",
    "    app.run_server(debug=True, port=8051)\n"
   ]
  },
  {
   "cell_type": "code",
   "execution_count": null,
   "id": "6cb26686",
   "metadata": {},
   "outputs": [],
   "source": []
  }
 ],
 "metadata": {
  "kernelspec": {
   "display_name": "Python 3 (ipykernel)",
   "language": "python",
   "name": "python3"
  },
  "language_info": {
   "codemirror_mode": {
    "name": "ipython",
    "version": 3
   },
   "file_extension": ".py",
   "mimetype": "text/x-python",
   "name": "python",
   "nbconvert_exporter": "python",
   "pygments_lexer": "ipython3",
   "version": "3.11.4"
  }
 },
 "nbformat": 4,
 "nbformat_minor": 5
}
